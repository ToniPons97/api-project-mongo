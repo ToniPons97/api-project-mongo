{
 "cells": [
  {
   "cell_type": "code",
   "execution_count": 1,
   "metadata": {},
   "outputs": [],
   "source": [
    "import pandas as pd\n",
    "from sklearn.feature_extraction.text import CountVectorizer\n",
    "from pymongo import MongoClient\n",
    "from bson.json_util import dumps, loads\n",
    "from dotenv import load_dotenv\n",
    "import os\n",
    "import json\n",
    "import dns\n",
    "import regex as re\n",
    "from sklearn.metrics.pairwise import cosine_similarity as distance\n",
    "from bottle import get, run\n",
    "import numpy as np"
   ]
  },
  {
   "cell_type": "code",
   "execution_count": 2,
   "metadata": {},
   "outputs": [],
   "source": [
    "load_dotenv()\n",
    "client = MongoClient(os.getenv(\"URL\"))\n",
    "db = client[\"api-project-mongo\"]\n",
    "coll = db[\"Chats\"]"
   ]
  },
  {
   "cell_type": "code",
   "execution_count": 25,
   "metadata": {},
   "outputs": [
    {
     "ename": "KeyError",
     "evalue": "'text'",
     "output_type": "error",
     "traceback": [
      "\u001b[0;31m---------------------------------------------------------------------------\u001b[0m",
      "\u001b[0;31mKeyError\u001b[0m                                  Traceback (most recent call last)",
      "\u001b[0;32m<ipython-input-25-b59f0634c8fa>\u001b[0m in \u001b[0;36m<module>\u001b[0;34m\u001b[0m\n\u001b[1;32m     10\u001b[0m             \u001b[0;32mpass\u001b[0m\u001b[0;34m\u001b[0m\u001b[0;34m\u001b[0m\u001b[0m\n\u001b[1;32m     11\u001b[0m     \u001b[0;32melse\u001b[0m\u001b[0;34m:\u001b[0m\u001b[0;34m\u001b[0m\u001b[0;34m\u001b[0m\u001b[0m\n\u001b[0;32m---> 12\u001b[0;31m         \u001b[0musers_dict\u001b[0m\u001b[0;34m[\u001b[0m\u001b[0mres\u001b[0m\u001b[0;34m[\u001b[0m\u001b[0mi\u001b[0m\u001b[0;34m]\u001b[0m\u001b[0;34m[\u001b[0m\u001b[0;34m\"userName\"\u001b[0m\u001b[0;34m]\u001b[0m\u001b[0;34m]\u001b[0m \u001b[0;34m+=\u001b[0m \u001b[0;34m\" \"\u001b[0m \u001b[0;34m+\u001b[0m \u001b[0mres\u001b[0m\u001b[0;34m[\u001b[0m\u001b[0mi\u001b[0m\u001b[0;34m]\u001b[0m\u001b[0;34m[\u001b[0m\u001b[0;34m\"text\"\u001b[0m\u001b[0;34m]\u001b[0m\u001b[0;34m\u001b[0m\u001b[0;34m\u001b[0m\u001b[0m\n\u001b[0m",
      "\u001b[0;31mKeyError\u001b[0m: 'text'"
     ]
    }
   ],
   "source": [
    "res = list(coll.find({}, {\"userName\" : 1, \"text\" : 1, \"_id\" : 0}))\n",
    "res\n",
    "users_dict = dict()\n",
    "\n",
    "for i in range(len(res)):\n",
    "    if res[i][\"userName\"] not in users_dict:\n",
    "        try:\n",
    "            users_dict[res[i][\"userName\"]] = res[i][\"text\"]\n",
    "        except:\n",
    "            pass\n",
    "    else:\n",
    "        users_dict[res[i][\"userName\"]] += \" \" + res[i][\"text\"]"
   ]
  },
  {
   "cell_type": "code",
   "execution_count": 22,
   "metadata": {},
   "outputs": [
    {
     "data": {
      "text/plain": [
       "'John Wick'"
      ]
     },
     "execution_count": 22,
     "metadata": {},
     "output_type": "execute_result"
    }
   ],
   "source": [
    "res[0][\"userName\"]"
   ]
  },
  {
   "cell_type": "code",
   "execution_count": 32,
   "metadata": {},
   "outputs": [],
   "source": [
    "all_names_list = []\n",
    "for i in list(coll.find({}, {\"userName\" : 1, \"text\" : 1, \"_id\" : 0})):\n",
    "    all_names_list.append(i[\"userName\"])\n"
   ]
  },
  {
   "cell_type": "code",
   "execution_count": 36,
   "metadata": {},
   "outputs": [],
   "source": [
    "all_names = set(all_names_list)"
   ]
  },
  {
   "cell_type": "code",
   "execution_count": 38,
   "metadata": {},
   "outputs": [],
   "source": [
    "all_names = list(all_names)"
   ]
  },
  {
   "cell_type": "code",
   "execution_count": 39,
   "metadata": {},
   "outputs": [
    {
     "data": {
      "text/plain": [
       "['Danny Torrance',\n",
       " 'Tony Stark',\n",
       " 'Ellen Ripley',\n",
       " 'Leia Organa',\n",
       " 'J. Jonah Jameson',\n",
       " 'ubuntu',\n",
       " 'Mike Wazowski',\n",
       " 'John Wick',\n",
       " 'Danny Torrances Finger']"
      ]
     },
     "execution_count": 39,
     "metadata": {},
     "output_type": "execute_result"
    }
   ],
   "source": [
    "all_names"
   ]
  },
  {
   "cell_type": "code",
   "execution_count": 56,
   "metadata": {},
   "outputs": [
    {
     "data": {
      "text/plain": [
       "{'text': 'What was that?'}"
      ]
     },
     "execution_count": 56,
     "metadata": {},
     "output_type": "execute_result"
    }
   ],
   "source": [
    "users_dict = dict()\n",
    "for i in all_names:\n",
    "    users_dict[i] = list(coll.find({\"userName\" : i}, {\"text\" : 1, \"_id\" : 0}))\n"
   ]
  },
  {
   "cell_type": "code",
   "execution_count": 62,
   "metadata": {},
   "outputs": [
    {
     "data": {
      "text/plain": [
       "[{'text': 'What was that?'},\n",
       " {'text': 'Did you mean red room? Id love a red room.'},\n",
       " {'text': 'Chill out, pinky.. Its such a nice day'},\n",
       " {'text': 'Ill go for a walk in the park, I guess. Maybe fishing'},\n",
       " {'text': 'No! That places creeps me out..'},\n",
       " {},\n",
       " {}]"
      ]
     },
     "execution_count": 62,
     "metadata": {},
     "output_type": "execute_result"
    }
   ],
   "source": [
    "users_dict[\"Danny Torrance\"]"
   ]
  },
  {
   "cell_type": "code",
   "execution_count": 63,
   "metadata": {},
   "outputs": [
    {
     "data": {
      "text/plain": [
       "{'Danny Torrance': [{'text': 'What was that?'},\n",
       "  {'text': 'Did you mean red room? Id love a red room.'},\n",
       "  {'text': 'Chill out, pinky.. Its such a nice day'},\n",
       "  {'text': 'Ill go for a walk in the park, I guess. Maybe fishing'},\n",
       "  {'text': 'No! That places creeps me out..'},\n",
       "  {},\n",
       "  {}],\n",
       " 'Tony Stark': [{'text': 'I saw you this morning. You shouldnt get so upset. ❤️'},\n",
       "  {'text': 'Dont get so frustrated, Leia. Remember what German said.'},\n",
       "  {'text': 'Im sure you will find a way.'},\n",
       "  {'text': 'I am Iron Man'},\n",
       "  {'text': 'Uh-Oh. Better fix that quickly.'}],\n",
       " 'Ellen Ripley': [{'text': 'Not again, Michael.... 😒️'},\n",
       "  {'text': 'Im gonna report you to Human Resources again, Michael.'},\n",
       "  {'text': 'Id rather have a fucking alien crawling out of my ass'},\n",
       "  {'text': 'Ok, youve got to stop drinking! Im calling HR.'},\n",
       "  {'text': 'Dude... Alcoholics Anonymous: https://www.aa.org'},\n",
       "  {}],\n",
       " 'Leia Organa': [{'text': 'Im so angry right now!'},\n",
       "  {'text': 'Impossible! Cant do it! Just cant! He pissed me off so much.'},\n",
       "  {'text': 'But how am I suposed to fix the facial recognition system if it doesnt even work?'},\n",
       "  {'text': 'And who the hell is Tony? 🤯️'},\n",
       "  {'text': 'Oh shit. I think youre friends with my brother.'},\n",
       "  {},\n",
       "  {}],\n",
       " 'J. Jonah Jameson': [{'text': 'I want pictures of Spiderman and I want them now!'},\n",
       "  {'text': 'Youve got to take me seriously.'},\n",
       "  {'text': 'Thats why youve got to get those damm pictures!!'},\n",
       "  {'text': 'Get the god damn motherfucking fuckity fuck bloody ballsack pictures'},\n",
       "  {'text': 'Youve got to! And I believe in you'},\n",
       "  {},\n",
       "  {}],\n",
       " 'ubuntu': [{}],\n",
       " 'Mike Wazowski': [{'text': 'Dude!!! 😀️ Did you watch the game last night?'},\n",
       "  {'text': 'Awesome! Boyander scored 3 goals!'},\n",
       "  {'text': 'Way...'},\n",
       "  {'text': 'For sure. We stayed at KuboLoco until 6AM.'},\n",
       "  {'text': 'Dead, burried and still suffering! 🤮️'},\n",
       "  {'text': 'Sweety pie! How Ive longed to talk to you.'},\n",
       "  {'text': 'Its Mike, honey bunny. Or doctor LOVE! And youre a sick little girl.'},\n",
       "  {'text': 'Cant handle me on your own?'},\n",
       "  {'text': 'That would be hot... 🔥️'},\n",
       "  {'text': 'I NEED VODKA LIKE A CAR NEEDS GAS'},\n",
       "  {}],\n",
       " 'John Wick': [{'text': 'Hey Mike, whats up??'},\n",
       "  {'text': 'No, had to work. How was it?'},\n",
       "  {'text': 'No way! 😮️'},\n",
       "  {'text': 'I bet people went crazy'},\n",
       "  {'text': 'Motherfucker! Hungover? 😵️'},\n",
       "  {'text': 'Sure, boss.'},\n",
       "  {'text': 'I do! I just dont feel appreciated in my job'},\n",
       "  {'text': 'I dunno...'},\n",
       "  {'text': 'Maybe'},\n",
       "  {'text': 'Thank you, boss! I feel much better...'}],\n",
       " 'Danny Torrances Finger': [{'text': 'REDRUM'},\n",
       "  {'text': 'REDRUM REDRUM REDRUM'},\n",
       "  {'text': 'Murder, bro, cold blooded splashy murderous fun'},\n",
       "  {'text': 'A nice day to create havoc!'},\n",
       "  {'text': 'Fishing sounds good. What about the labyrinth?'},\n",
       "  {}]}"
      ]
     },
     "execution_count": 63,
     "metadata": {},
     "output_type": "execute_result"
    }
   ],
   "source": [
    "users_dict"
   ]
  },
  {
   "cell_type": "code",
   "execution_count": null,
   "metadata": {},
   "outputs": [],
   "source": []
  }
 ],
 "metadata": {
  "kernelspec": {
   "display_name": "Python 3",
   "language": "python",
   "name": "python3"
  },
  "language_info": {
   "codemirror_mode": {
    "name": "ipython",
    "version": 3
   },
   "file_extension": ".py",
   "mimetype": "text/x-python",
   "name": "python",
   "nbconvert_exporter": "python",
   "pygments_lexer": "ipython3",
   "version": "3.7.5"
  }
 },
 "nbformat": 4,
 "nbformat_minor": 2
}
