{
 "cells": [
  {
   "cell_type": "code",
   "execution_count": 54,
   "metadata": {},
   "outputs": [],
   "source": [
    "import nltk\n",
    "from nltk.sentiment.vader import SentimentIntensityAnalyzer\n",
    "\n",
    "sid = SentimentIntensityAnalyzer()\n",
    "\n",
    "def getSentiment():\n",
    "    text = []\n",
    "    scores = {}\n",
    "    x = list(coll.find())\n",
    "    for i in range(len(x)):\n",
    "        try:\n",
    "            text.append(x[i][\"text\"])\n",
    "        except:\n",
    "            pass\n",
    "    #for i in text:\n",
    "     #   scores[\"score\"] = (sid.polarity_scores(text))\n",
    "        \n",
    "   \n",
    "    return text\n",
    "\n"
   ]
  },
  {
   "cell_type": "code",
   "execution_count": null,
   "metadata": {},
   "outputs": [],
   "source": []
  },
  {
   "cell_type": "code",
   "execution_count": 55,
   "metadata": {},
   "outputs": [
    {
     "data": {
      "text/plain": [
       "['Hey Mike, whats up??',\n",
       " 'Dude!!! 😀️ Did you watch the game last night?',\n",
       " 'No, had to work. How was it?',\n",
       " 'Awesome! Boyander scored 3 goals!',\n",
       " 'No way! 😮️',\n",
       " 'Way...',\n",
       " 'I bet people went crazy',\n",
       " 'For sure. We stayed at KuboLoco until 6AM.',\n",
       " 'Motherfucker! Hungover? 😵️',\n",
       " 'Dead, burried and still suffering! 🤮️',\n",
       " 'Im so angry right now!',\n",
       " 'I saw you this morning. You shouldnt get so upset. ❤️',\n",
       " 'Impossible! Cant do it! Just cant! He pissed me off so much.',\n",
       " 'Dont get so frustrated, Leia. Remember what German said.',\n",
       " 'But how am I suposed to fix the facial recognition system if it doesnt even work?',\n",
       " 'Im sure you will find a way.',\n",
       " 'And who the hell is Tony? 🤯️',\n",
       " 'I am Iron Man',\n",
       " 'Oh shit. I think youre friends with my brother.',\n",
       " 'Uh-Oh. Better fix that quickly.',\n",
       " 'Sweety pie! How Ive longed to talk to you.',\n",
       " 'Not again, Michael.... 😒️',\n",
       " 'Its Mike, honey bunny. Or doctor LOVE! And youre a sick little girl.',\n",
       " 'Im gonna report you to Human Resources again, Michael.',\n",
       " 'Cant handle me on your own?',\n",
       " 'Id rather have a fucking alien crawling out of my ass',\n",
       " 'That would be hot... 🔥️',\n",
       " 'Ok, youve got to stop drinking! Im calling HR.',\n",
       " 'I NEED VODKA LIKE A CAR NEEDS GAS',\n",
       " 'Dude... Alcoholics Anonymous: https://www.aa.org',\n",
       " 'I want pictures of Spiderman and I want them now!',\n",
       " 'Sure, boss.',\n",
       " 'Youve got to take me seriously.',\n",
       " 'I do! I just dont feel appreciated in my job',\n",
       " 'Thats why youve got to get those damm pictures!!',\n",
       " 'I dunno...',\n",
       " 'Get the god damn motherfucking fuckity fuck bloody ballsack pictures',\n",
       " 'Maybe',\n",
       " 'Youve got to! And I believe in you',\n",
       " 'Thank you, boss! I feel much better...',\n",
       " 'REDRUM',\n",
       " 'What was that?',\n",
       " 'REDRUM REDRUM REDRUM',\n",
       " 'Did you mean red room? Id love a red room.',\n",
       " 'Murder, bro, cold blooded splashy murderous fun',\n",
       " 'Chill out, pinky.. Its such a nice day',\n",
       " 'A nice day to create havoc!',\n",
       " 'Ill go for a walk in the park, I guess. Maybe fishing',\n",
       " 'Fishing sounds good. What about the labyrinth?',\n",
       " 'No! That places creeps me out..']"
      ]
     },
     "execution_count": 55,
     "metadata": {},
     "output_type": "execute_result"
    }
   ],
   "source": [
    "getSentiment()"
   ]
  },
  {
   "cell_type": "code",
   "execution_count": null,
   "metadata": {},
   "outputs": [],
   "source": []
  }
 ],
 "metadata": {
  "kernelspec": {
   "display_name": "Python 3",
   "language": "python",
   "name": "python3"
  },
  "language_info": {
   "codemirror_mode": {
    "name": "ipython",
    "version": 3
   },
   "file_extension": ".py",
   "mimetype": "text/x-python",
   "name": "python",
   "nbconvert_exporter": "python",
   "pygments_lexer": "ipython3",
   "version": "3.7.5"
  }
 },
 "nbformat": 4,
 "nbformat_minor": 2
}
